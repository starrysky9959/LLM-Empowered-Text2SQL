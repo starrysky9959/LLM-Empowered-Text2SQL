{
 "cells": [
  {
   "cell_type": "code",
   "execution_count": 5,
   "metadata": {},
   "outputs": [
    {
     "name": "stdout",
     "output_type": "stream",
     "text": [
      "select count ( _ ) from _\n"
     ]
    }
   ],
   "source": [
    "import json\n",
    "import sqlite3\n",
    "\n",
    "\n",
    "from constants import DEV_JSON_PATH, DATABASE_PATH_PATTERN\n",
    "import tool\n",
    "\n",
    "\n",
    "\n",
    "\n",
    "with open(DEV_JSON_PATH, \"r\") as dev_json_file:\n",
    "    dataset = json.load(dev_json_file)\n",
    "    for test_case in dataset[:1]:\n",
    "        db_id = test_case[\"db_id\"]\n",
    "        db_path = DATABASE_PATH_PATTERN.format(db_id=db_id)\n",
    "        schema_dict = get_sqlite_schema_dict(db_path)\n",
    "        skeleton = tool.sql2skeleton(\"SELECT COUNT(*) FROM singer;\", schema_dict)\n",
    "        print(skeleton)"
   ]
  }
 ],
 "metadata": {
  "kernelspec": {
   "display_name": "deepseek",
   "language": "python",
   "name": "python3"
  },
  "language_info": {
   "codemirror_mode": {
    "name": "ipython",
    "version": 3
   },
   "file_extension": ".py",
   "mimetype": "text/x-python",
   "name": "python",
   "nbconvert_exporter": "python",
   "pygments_lexer": "ipython3",
   "version": "3.11.5"
  }
 },
 "nbformat": 4,
 "nbformat_minor": 2
}
