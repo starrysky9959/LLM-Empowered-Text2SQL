{
 "cells": [
  {
   "cell_type": "code",
   "execution_count": 8,
   "metadata": {},
   "outputs": [],
   "source": [
    "import sqlite3\n",
    "# 连接到 SQLite 数据库\n",
    "def get_sqlite_schema_str(db_id: str):\n",
    "    db_path = \"../dataset/spider/database/{db_id}/{db_id}.sqlite\".format(db_id=db_id)\n",
    "    conn = sqlite3.connect(db_path)\n",
    "\n",
    "    # 创建游标对象\n",
    "    cursor = conn.cursor()\n",
    "\n",
    "    # 执行查询获取表的模式信息\n",
    "    cursor.execute(\"SELECT sql FROM sqlite_master WHERE type='table'\")\n",
    "\n",
    "    # 获取查询结果\n",
    "    results = cursor.fetchall()\n",
    "\n",
    "    # # 打印表的模式信息\n",
    "    # # schema = \"```sql\\n\"\n",
    "    schema=\"\"\n",
    "    for result in results:\n",
    "        schema += result[0].lower() + \";\\n\"\n",
    "    # schema+=\"```\\n\"\n",
    "    # 关闭连接\n",
    "    conn.close()\n",
    "\n",
    "    return schema"
   ]
  },
  {
   "cell_type": "code",
   "execution_count": 10,
   "metadata": {},
   "outputs": [],
   "source": [
    "import json\n",
    "\n",
    "\n",
    "Spider_Dataset_Path = \"../dataset/spider/\"\n",
    "Dev_Json_Path = Spider_Dataset_Path + \"train_spider.json\"\n",
    "Database_Path = Spider_Dataset_Path + \"database/\"\n",
    "\n",
    "\n",
    "def build_instruction_prompt(schema: str, instruction: str):\n",
    "    return \"\"\"\n",
    "Given the following SQLite database schema:\n",
    "{schema}\n",
    "### Instruction:\n",
    "Complete the SQLite SQL query only to answer this question and with no explanation:\n",
    "{instruction}\n",
    "### Response:\n",
    "\"\"\".format(\n",
    "        schema=schema, instruction=instruction.strip()\n",
    "    ).lstrip()\n",
    "\n",
    "\n",
    "output = []\n",
    "with open(Dev_Json_Path, \"r\") as dataset_file:\n",
    "    i = 0\n",
    "    dataset = json.load(dataset_file)\n",
    "    for case in dataset:\n",
    "        schema = get_sqlite_schema_str(case[\"db_id\"])\n",
    "        prompt = build_instruction_prompt(schema, case[\"question\"])\n",
    "\n",
    "        train_data = {\"instruction\": prompt, \"output\": case[\"query\"]}\n",
    "        # print(train_data[\"instruction\"])\n",
    "        output.append(train_data)\n",
    "        # break\n",
    "with open(\"dataset.json\", \"w\") as output_file:\n",
    "    json.dump(output, output_file)"
   ]
  },
  {
   "cell_type": "code",
   "execution_count": null,
   "metadata": {},
   "outputs": [],
   "source": []
  }
 ],
 "metadata": {
  "kernelspec": {
   "display_name": "deepseek",
   "language": "python",
   "name": "python3"
  },
  "language_info": {
   "codemirror_mode": {
    "name": "ipython",
    "version": 3
   },
   "file_extension": ".py",
   "mimetype": "text/x-python",
   "name": "python",
   "nbconvert_exporter": "python",
   "pygments_lexer": "ipython3",
   "version": "3.11.5"
  }
 },
 "nbformat": 4,
 "nbformat_minor": 2
}
