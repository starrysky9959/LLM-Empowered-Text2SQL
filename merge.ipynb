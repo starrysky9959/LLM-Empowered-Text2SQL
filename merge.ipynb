{
 "cells": [
  {
   "cell_type": "code",
   "execution_count": 1,
   "metadata": {},
   "outputs": [],
   "source": [
    "#%%\n",
    "MODEL_NAME = \"NeuralPipe-7B-slerp\"\n",
    "yaml_config = \"\"\"\n",
    "\n",
    "\"\"\".strip()"
   ]
  },
  {
   "cell_type": "markdown",
   "metadata": {},
   "source": []
  },
  {
   "cell_type": "code",
   "execution_count": 2,
   "metadata": {},
   "outputs": [
    {
     "name": "stdout",
     "output_type": "stream",
     "text": [
      "mergekit-yaml config.yaml merge --copy-tokenizer --allow-crimes --out-shard-size 1B --lazy-unpickle\n",
      "/bin/bash: mergekit-yaml: command not found\n"
     ]
    }
   ],
   "source": [
    "# @title ## Run merge\n",
    "\n",
    "# @markdown ### Runtime type\n",
    "# @markdown Select your runtime (CPU, High RAM, GPU)\n",
    "\n",
    "runtime = \"CPU\" # @param [\"CPU\", \"CPU + High-RAM\", \"GPU\"]\n",
    "\n",
    "# @markdown ### Mergekit arguments\n",
    "# @markdown Use the `main` branch by default, [`mixtral`](https://github.com/cg123/mergekit/blob/mixtral/moe.md) if you want to create a Mixture of Experts.\n",
    "\n",
    "branch = \"main\" # @param [\"main\", \"mixtral\"]\n",
    "trust_remote_code = False # @param {type:\"boolean\"}\n",
    "\n",
    "# Install mergekit\n",
    "# if branch == \"main\":\n",
    "#     %git clone https://github.com/cg123/mergekit.git\n",
    "#     !cd mergekit && pip install -qqq -e . --progress-bar off\n",
    "# elif branch == \"mixtral\":\n",
    "#     !git clone -b mixtral https://github.com/cg123/mergekit.git\n",
    "#     !cd mergekit && pip install -qqq -e . --progress-bar off\n",
    "#     %pip install -qqq -U transformers --progress-bar off\n",
    "\n",
    "# Save config as yaml file\n",
    "with open('config.yaml', 'w', encoding=\"utf-8\") as f:\n",
    "    f.write(yaml_config)\n",
    "\n",
    "# Base CLI\n",
    "if branch == \"main\":\n",
    "    cli = \"mergekit-yaml config.yaml merge --copy-tokenizer\"\n",
    "elif branch == \"mixtral\":\n",
    "    cli = \"mergekit-moe config.yaml merge --copy-tokenizer\"\n",
    "\n",
    "# Additional arguments\n",
    "if runtime == \"CPU\":\n",
    "    cli += \" --allow-crimes --out-shard-size 1B --lazy-unpickle\"\n",
    "elif runtime == \"GPU\":\n",
    "    cli += \" --cuda --low-cpu-memory\"\n",
    "if trust_remote_code:\n",
    "    cli += \" --trust-remote-code\"\n",
    "\n",
    "print(cli)\n",
    "\n",
    "# Merge models\n",
    "!{cli}"
   ]
  }
 ],
 "metadata": {
  "kernelspec": {
   "display_name": "deepseek",
   "language": "python",
   "name": "python3"
  },
  "language_info": {
   "codemirror_mode": {
    "name": "ipython",
    "version": 3
   },
   "file_extension": ".py",
   "mimetype": "text/x-python",
   "name": "python",
   "nbconvert_exporter": "python",
   "pygments_lexer": "ipython3",
   "version": "3.11.5"
  }
 },
 "nbformat": 4,
 "nbformat_minor": 2
}
