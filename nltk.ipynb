{
 "cells": [
  {
   "cell_type": "code",
   "execution_count": 2,
   "metadata": {},
   "outputs": [],
   "source": [
    "import spacy\n",
    "from spacy.matcher import PhraseMatcher\n",
    "\n",
    "nlp = spacy.load(\"en_core_web_sm\")"
   ]
  },
  {
   "cell_type": "code",
   "execution_count": 4,
   "metadata": {},
   "outputs": [
    {
     "name": "stdout",
     "output_type": "stream",
     "text": [
      "['department', 'head', 'management', 'department_id', 'name', 'creation', 'ranking', 'budget_in_billions', 'num_employees', 'head_id', 'name', 'born_state', 'age', 'department_id', 'head_id', 'temporary_acting']\n",
      "How many heads of the departments are older than 56 ?\n"
     ]
    },
    {
     "name": "stderr",
     "output_type": "stream",
     "text": [
      "Applied processor reduces input query to empty string, all comparisons will have score 0. [Query: '?']\n"
     ]
    },
    {
     "name": "stdout",
     "output_type": "stream",
     "text": [
      "['WRB', 'JJ', '<DOMAIN>', 'IN', 'DT', '<DOMAIN>', 'VBP', 'JJR', 'IN', 'CD', '.']\n"
     ]
    }
   ],
   "source": [
    "import json\n",
    "from constants import TRAIN_JSON_PATH, DATABASE_PATH_PATTERN, DOMAIN_TAG\n",
    "import util\n",
    "\n",
    "with open(TRAIN_JSON_PATH, \"r\") as train_set_file:\n",
    "    train_set_json = json.load(train_set_file)\n",
    "    for case in train_set_json[:1]:\n",
    "        db_path = DATABASE_PATH_PATTERN.format(db_id=case[\"db_id\"])\n",
    "        terminology_list = util.get_sqlite_terminology_list(db_path)\n",
    "        print(terminology_list)\n",
    "        print(case[\"question\"])\n",
    "        masked_tokens = []\n",
    "        for token in nlp(case[\"question\"]):\n",
    "            if util.is_terminology(token.lemma_, terminology_list):\n",
    "                masked_tokens.append(DOMAIN_TAG)\n",
    "            else:\n",
    "                masked_tokens.append(token.tag_)\n",
    "        print(masked_tokens)"
   ]
  },
  {
   "cell_type": "code",
   "execution_count": null,
   "metadata": {},
   "outputs": [],
   "source": [
    "_"
   ]
  }
 ],
 "metadata": {
  "kernelspec": {
   "display_name": "deepseek",
   "language": "python",
   "name": "python3"
  },
  "language_info": {
   "codemirror_mode": {
    "name": "ipython",
    "version": 3
   },
   "file_extension": ".py",
   "mimetype": "text/x-python",
   "name": "python",
   "nbconvert_exporter": "python",
   "pygments_lexer": "ipython3",
   "version": "3.11.5"
  }
 },
 "nbformat": 4,
 "nbformat_minor": 2
}
